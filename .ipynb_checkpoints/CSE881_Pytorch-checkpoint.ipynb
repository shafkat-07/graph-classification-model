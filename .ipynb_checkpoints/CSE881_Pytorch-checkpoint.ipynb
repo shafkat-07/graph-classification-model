{
 "cells": [
  {
   "cell_type": "markdown",
   "metadata": {},
   "source": [
    "## Enviroment Setup\n",
    "\n",
    "**Anaconda** is a distribution of the Python and R programming languages for scientific computing, that aims to simplify package management and deployment. You can install Anaconda through https://www.anaconda.com/products/individual "
   ]
  },
  {
   "cell_type": "markdown",
   "metadata": {},
   "source": [
    "Create an environment named gnn with python 3.8.\n",
    "\n",
    "`conda create --name gnn python=3.8 -y`"
   ]
  },
  {
   "cell_type": "markdown",
   "metadata": {},
   "source": [
    "Activate the gnn environment\n",
    "\n",
    "`conda activate gnn`"
   ]
  },
  {
   "cell_type": "markdown",
   "metadata": {},
   "source": [
    "Install pytorch. If you don't have GPU, you can install pytorch through the following command. If you have GPUs, please refer to https://pytorch.org/get-started/locally/ .\n",
    "\n",
    "`pip3 install torch torchvision torchaudio`\n",
    "\n",
    "`pip install matplotlib`"
   ]
  },
  {
   "cell_type": "markdown",
   "metadata": {},
   "source": [
    "If you want to use jupyter notebook, you can use the following commands.\n",
    "\n",
    "`conda install -c anaconda ipykernel`\n",
    "\n",
    "`python -m ipykernel install --user --name=gnn`"
   ]
  },
  {
   "cell_type": "markdown",
   "metadata": {},
   "source": [
    "Run jupyter notebook\n",
    "\n",
    "`jupyter notebook`"
   ]
  },
  {
   "cell_type": "markdown",
   "metadata": {},
   "source": [
    "![](figures/jupkernel.png)"
   ]
  },
  {
   "cell_type": "markdown",
   "metadata": {},
   "source": [
    "# Introduction to Pytorch\n",
    "\n",
    "\n",
    "PyTorch is a very popular deep learning framework at present. Its simple interface design and detailed documentation greatly reduce the learning cost. Unlike TensorFlow, another popular deep learning framework, PyTorch is based on **dynamic graphs**, that is, PyTorch will rebuild a new calculation graph every time it calculates forward. This feature makes PyTorch more intuitive, the logic of writing code is closer to the style of Python itself, and it is easier to debug. Next we introduce some important features of PyTorch."
   ]
  },
  {
   "cell_type": "code",
   "execution_count": 1,
   "metadata": {},
   "outputs": [],
   "source": [
    "import torch\n",
    "from torch import nn\n",
    "import torch.nn.functional as F"
   ]
  },
  {
   "cell_type": "markdown",
   "metadata": {},
   "source": [
    "Here is a brief introduction to Pytorch. If you want to learn more about Pytorch, please refer to https://pytorch.org/tutorials/beginner/basics/quickstart_tutorial.html."
   ]
  },
  {
   "cell_type": "markdown",
   "metadata": {},
   "source": [
    "## 0.1 Tensor\n",
    "The core of PyTorch is the Tensor object. Tensors are **multi-dimensional array** objects that can be used to represent one-dimensional vectors (arrays) and high-dimensional matrices. PyTorch provides a variety of APIs for fast array operations, and users can use GPUs to accelerate calculations involving Tensors. Tensor objects and Numpy's ndarray objects are very similar, both representing multi-dimensional arrays, and many APIs are also similar."
   ]
  },
  {
   "cell_type": "code",
   "execution_count": 2,
   "metadata": {},
   "outputs": [
    {
     "name": "stdout",
     "output_type": "stream",
     "text": [
      "tensor([[1, 2],\n",
      "        [3, 4]])\n",
      "tensor([[1., 2.],\n",
      "        [3., 4.]])\n"
     ]
    }
   ],
   "source": [
    "# Creat an array\n",
    "a = [[1,2], [3, 4]]\n",
    "b = torch.tensor(a)\n",
    "c = torch.FloatTensor(a)\n",
    "print(b)\n",
    "print(c)"
   ]
  },
  {
   "cell_type": "code",
   "execution_count": 3,
   "metadata": {},
   "outputs": [
    {
     "name": "stdout",
     "output_type": "stream",
     "text": [
      "[[1 2]\n",
      " [3 4]]\n",
      "tensor([[1, 2],\n",
      "        [3, 4]])\n",
      "tensor([[1., 2.],\n",
      "        [3., 4.]])\n"
     ]
    }
   ],
   "source": [
    "# Creat an array from numpy\n",
    "import numpy as np\n",
    "np_array = np.array(a)\n",
    "d = torch.from_numpy(np_array)\n",
    "e = d.float()\n",
    "print(np_array)\n",
    "print(d)\n",
    "print(e)"
   ]
  },
  {
   "cell_type": "code",
   "execution_count": 4,
   "metadata": {},
   "outputs": [
    {
     "name": "stdout",
     "output_type": "stream",
     "text": [
      "tensor([[ 1.6903,  0.5849, -0.6746],\n",
      "        [ 0.2974,  0.7451,  0.7249]])\n"
     ]
    }
   ],
   "source": [
    "# Create a random array with shape (2, 3)\n",
    "a = torch.randn((2, 3))\n",
    "print(a)"
   ]
  },
  {
   "cell_type": "code",
   "execution_count": 5,
   "metadata": {},
   "outputs": [
    {
     "name": "stdout",
     "output_type": "stream",
     "text": [
      "tensor([[1., 1., 1.],\n",
      "        [1., 1., 1.]])\n",
      "tensor([[2.6903, 1.5849, 0.3254],\n",
      "        [1.2974, 1.7451, 1.7249]])\n"
     ]
    }
   ],
   "source": [
    "b = torch.ones((2, 3))\n",
    "print(b)\n",
    "print(a + b)"
   ]
  },
  {
   "cell_type": "code",
   "execution_count": 6,
   "metadata": {},
   "outputs": [
    {
     "name": "stdout",
     "output_type": "stream",
     "text": [
      "tensor([[1., 1.],\n",
      "        [1., 1.],\n",
      "        [1., 1.]])\n",
      "tensor([[1.6006, 1.6006],\n",
      "        [1.7674, 1.7674]])\n"
     ]
    }
   ],
   "source": [
    "c = torch.ones((3, 2))\n",
    "print(c)\n",
    "print(a.mm(c))  # mm is matmul，which means matrix multiplication"
   ]
  },
  {
   "cell_type": "code",
   "execution_count": 7,
   "metadata": {},
   "outputs": [
    {
     "data": {
      "text/plain": [
       "tensor([[ 1.6903,  0.5849, -0.6746],\n",
       "        [ 0.2974,  0.7451,  0.7249]])"
      ]
     },
     "execution_count": 7,
     "metadata": {},
     "output_type": "execute_result"
    }
   ],
   "source": [
    "# Element-wise product\n",
    "a * b"
   ]
  },
  {
   "cell_type": "code",
   "execution_count": 8,
   "metadata": {
    "scrolled": true
   },
   "outputs": [
    {
     "data": {
      "text/plain": [
       "tensor([[ 1.6903,  0.5849, -0.6746],\n",
       "        [ 0.2974,  0.7451,  0.7249]])"
      ]
     },
     "execution_count": 8,
     "metadata": {},
     "output_type": "execute_result"
    }
   ],
   "source": [
    "a.to('cpu') # Put a into CPU. Not necessary, the default location of tensor is CPU.\n",
    "# a.to('cuda') # Put a into GPU if you have installed the GPU version Pytorch."
   ]
  },
  {
   "cell_type": "markdown",
   "metadata": {},
   "source": [
    "## 0.2 BackPropagation of PyTorch\n",
    "When training neural networks, the most frequently used algorithm is **back propagation**. In this algorithm, parameters (model weights) are adjusted according to the gradient of the loss function with respect to the given parameter.\n"
   ]
  },
  {
   "cell_type": "markdown",
   "metadata": {},
   "source": [
    "### 0.2.1 Autograd\n",
    "To compute those gradients, PyTorch has a built-in differentiation engine called torch.autograd. It supports automatic computation of gradient for any computational graph.\n"
   ]
  },
  {
   "cell_type": "code",
   "execution_count": 9,
   "metadata": {},
   "outputs": [
    {
     "data": {
      "text/plain": [
       "tensor([[1., 1.],\n",
       "        [1., 1.]], requires_grad=True)"
      ]
     },
     "execution_count": 9,
     "metadata": {},
     "output_type": "execute_result"
    }
   ],
   "source": [
    "# Create a tensor with gradient\n",
    "a_ = torch.ones((2,2), requires_grad=True)\n",
    "a_"
   ]
  },
  {
   "cell_type": "code",
   "execution_count": 10,
   "metadata": {},
   "outputs": [],
   "source": [
    "# At first the gradient of a_ is None\n",
    "a_.grad"
   ]
  },
  {
   "cell_type": "code",
   "execution_count": 11,
   "metadata": {
    "scrolled": true
   },
   "outputs": [
    {
     "data": {
      "text/plain": [
       "tensor([[2., 2.],\n",
       "        [2., 2.]], grad_fn=<AddBackward0>)"
      ]
     },
     "execution_count": 11,
     "metadata": {},
     "output_type": "execute_result"
    }
   ],
   "source": [
    "b_ = a_ + 1\n",
    "b_"
   ]
  },
  {
   "cell_type": "markdown",
   "metadata": {},
   "source": [
    "There is a function named grad_fn in tensor b. The grad_fn records the operation that created tensor b, which facilitates later backpropagation (differentiation)."
   ]
  },
  {
   "cell_type": "code",
   "execution_count": 12,
   "metadata": {},
   "outputs": [
    {
     "data": {
      "text/plain": [
       "tensor(8., grad_fn=<SumBackward0>)"
      ]
     },
     "execution_count": 12,
     "metadata": {},
     "output_type": "execute_result"
    }
   ],
   "source": [
    "# define sum_\n",
    "sum_ = b_.sum()\n",
    "sum_"
   ]
  },
  {
   "cell_type": "code",
   "execution_count": 13,
   "metadata": {},
   "outputs": [],
   "source": [
    "# Do the backpropagation based on sum_\n",
    "sum_.backward()"
   ]
  },
  {
   "cell_type": "code",
   "execution_count": 14,
   "metadata": {},
   "outputs": [
    {
     "data": {
      "text/plain": [
       "tensor([[1., 1.],\n",
       "        [1., 1.]])"
      ]
     },
     "execution_count": 14,
     "metadata": {},
     "output_type": "execute_result"
    }
   ],
   "source": [
    "# Finally, we get the gradient of a_\n",
    "a_.grad"
   ]
  },
  {
   "cell_type": "markdown",
   "metadata": {},
   "source": [
    "It's worth noting that after calling the backward() function once, the associated computational graph will be cleared. If you call backward() twice, the second call will result in an error."
   ]
  },
  {
   "cell_type": "markdown",
   "metadata": {},
   "source": [
    "### 0.2.2 PyTorch optimizer\n",
    "We have learned that we can use the backward() function to obtain the gradient of a tensor, which allows us to update the parameters using gradient descent. There are many variants of gradient descent, such as SGD, Momentum gradient descent, and Adam gradient descent. PyTorch has already implemented these optimization methods for us in **torch.optim**, which we can use directly."
   ]
  },
  {
   "cell_type": "code",
   "execution_count": 15,
   "metadata": {},
   "outputs": [],
   "source": [
    "param = nn.Parameter(torch.ones(2,2))\n",
    "optimizer0 = torch.optim.SGD([param], lr=0.1)"
   ]
  },
  {
   "cell_type": "code",
   "execution_count": 16,
   "metadata": {},
   "outputs": [
    {
     "data": {
      "text/plain": [
       "Parameter containing:\n",
       "tensor([[1., 1.],\n",
       "        [1., 1.]], requires_grad=True)"
      ]
     },
     "execution_count": 16,
     "metadata": {},
     "output_type": "execute_result"
    }
   ],
   "source": [
    "param"
   ]
  },
  {
   "cell_type": "code",
   "execution_count": 17,
   "metadata": {},
   "outputs": [
    {
     "name": "stdout",
     "output_type": "stream",
     "text": [
      "tensor(4., grad_fn=<SumBackward0>)\n"
     ]
    }
   ],
   "source": [
    "# We define a loss，which is the square sum of all elements in para. So when the minimun loss is 0，and param=0.\n",
    "loss0 = (param**2).sum()\n",
    "print(loss0)"
   ]
  },
  {
   "cell_type": "code",
   "execution_count": 18,
   "metadata": {},
   "outputs": [
    {
     "name": "stdout",
     "output_type": "stream",
     "text": [
      "Parameter containing:\n",
      "tensor([[0.8000, 0.8000],\n",
      "        [0.8000, 0.8000]], requires_grad=True)\n"
     ]
    }
   ],
   "source": [
    "# Before calling backward(), we need to call zero_grad() to clear the gradients in the parameters; \n",
    "# otherwise, the gradient values will accumulate.\n",
    "optimizer0.zero_grad() \n",
    "loss0.backward() # calculate the gradients\n",
    "optimizer0.step() # the step() is to update the param\n",
    "print(param)"
   ]
  },
  {
   "cell_type": "code",
   "execution_count": 19,
   "metadata": {},
   "outputs": [
    {
     "name": "stdout",
     "output_type": "stream",
     "text": [
      "loss value: 2.5600\n",
      "loss value: 1.6384\n",
      "loss value: 1.0486\n",
      "loss value: 0.6711\n",
      "loss value: 0.4295\n",
      "loss value: 0.2749\n",
      "loss value: 0.1759\n",
      "loss value: 0.1126\n",
      "loss value: 0.0721\n",
      "loss value: 0.0461\n",
      "loss value: 0.0295\n",
      "loss value: 0.0189\n",
      "loss value: 0.0121\n",
      "loss value: 0.0077\n",
      "loss value: 0.0050\n",
      "loss value: 0.0032\n",
      "loss value: 0.0020\n",
      "loss value: 0.0013\n",
      "loss value: 0.0008\n",
      "loss value: 0.0005\n",
      "final param： Parameter containing:\n",
      "tensor([[0.0092, 0.0092],\n",
      "        [0.0092, 0.0092]], requires_grad=True)\n"
     ]
    }
   ],
   "source": [
    "# We can use a loop to optimize the param\n",
    "for i in range(20):\n",
    "    optimizer0.zero_grad()\n",
    "    loss0 = (param**2).sum()\n",
    "    loss0.backward()\n",
    "    optimizer0.step()\n",
    "    print('loss value: {:.4f}'.format(loss0.item()))\n",
    "print('final param：', param)"
   ]
  },
  {
   "cell_type": "markdown",
   "metadata": {},
   "source": [
    "From the example above, we can see that the loss value is continuously decreasing, and the final param we obtained is also very close to 0."
   ]
  },
  {
   "cell_type": "markdown",
   "metadata": {},
   "source": [
    "# An example of Image classification."
   ]
  },
  {
   "cell_type": "markdown",
   "metadata": {},
   "source": [
    "## 1. Load Data"
   ]
  },
  {
   "cell_type": "markdown",
   "metadata": {},
   "source": [
    "We take the MNIST dataset as an example to show how to load data in PyTorch. The MNIST dataset contains 10 different handwritten digits, namely 0 to 9. The label of each image is a number from 0 to 9. On this dataset, our task is to predict which digit a picture corresponds to, so this is a classification problem."
   ]
  },
  {
   "cell_type": "code",
   "execution_count": 20,
   "metadata": {},
   "outputs": [],
   "source": [
    "import matplotlib.pyplot as plt\n",
    "from torchvision import datasets, transforms\n",
    "\n",
    "# Download MNIST dataset and save to data folder.\n",
    "data_train = datasets.MNIST('data', train=True, download=True, transform=transforms.ToTensor())\n",
    "data_test = datasets.MNIST('data', train=False, download=True, transform=transforms.ToTensor())"
   ]
  },
  {
   "cell_type": "markdown",
   "metadata": {},
   "source": [
    "data_train and data_test are train and test data. We can access their contents by index, which returns data in the form of (data, label)."
   ]
  },
  {
   "cell_type": "code",
   "execution_count": 21,
   "metadata": {},
   "outputs": [
    {
     "name": "stdout",
     "output_type": "stream",
     "text": [
      "torch.Size([1, 28, 28])\n",
      "5\n"
     ]
    }
   ],
   "source": [
    "img, label = data_train[0] # Get the first image\n",
    "print(img.size())\n",
    "print(label)"
   ]
  },
  {
   "cell_type": "code",
   "execution_count": 22,
   "metadata": {},
   "outputs": [
    {
     "data": {
      "image/png": "[encoded data removed]",
      "text/plain": [
       "<Figure size 720x144 with 10 Axes>"
      ]
     },
     "metadata": {
      "needs_background": "light"
     },
     "output_type": "display_data"
    }
   ],
   "source": [
    "# Plot the first ten images\n",
    "plt.figure(figsize=(10, 2))\n",
    "for i in range(10):\n",
    "    img, label = data_train[i]\n",
    "    img = img.numpy().squeeze() # squeeze() will trasform the img size from (1，28，28）to（28，28)\n",
    "    plt.subplot(1, 10, i+1)\n",
    "    plt.imshow(img)"
   ]
  },
  {
   "cell_type": "markdown",
   "metadata": {},
   "source": [
    "## 2. FeedForward Neural Networks"
   ]
  },
  {
   "cell_type": "markdown",
   "metadata": {},
   "source": [
    "In the previous section, we have learned how to load data in PyTorch. Now we will explain how to build and train a feedforward neural network in PyTorch to complete a classification task."
   ]
  },
  {
   "attachments": {
    "image.png": {
     "image/png": "[encoded data removed]"
    }
   },
   "cell_type": "markdown",
   "metadata": {},
   "source": [
    "First, let's review the construction of a feedforward neural network. The following diagram shows a neural network with two layers, i.e., (1) from input to hidden layer and (2) from hidden layer to output. We usually apply **Softmax** to the output vector to obtain the probability of each class, and then calculate the loss function. Next, we will show how to build a network in PyTorch. Note that a feedforward neural network is also called a Multi-Layer Perceptron (MLP), and we will use MLP to represent a feedforward neural network in the following description.\n",
    "![image.png](attachment:image.png)"
   ]
  },
  {
   "cell_type": "markdown",
   "metadata": {},
   "source": [
    "### 2.1.1 Build The MLP\n"
   ]
  },
  {
   "cell_type": "markdown",
   "metadata": {},
   "source": [
    "Since the operations in a neural network are essentially matrix operations, we can directly represent the network using matrix operations. For example, given an input x, the operation in a linear layer can be represented as: x' = W x + b, where W and b are the parameters of this linear layer. Following the principles of Object-Oriented Programming (OOP), we define a class for a feedforward neural network and encapsulate the functions we need within it. We can design a two-layer feedforward neural network based on the following logic:\n",
    "```\n",
    "# Pseudo Code\n",
    "class MLP:\n",
    "    def __init__(self):\n",
    "        self.layer1 = xxx\n",
    "        self.layer2 = xxx\n",
    "    \n",
    "    def forward(self, x): # x is the input\n",
    "        # self.layer1\n",
    "        # Non linear function\n",
    "        # self.layer2\n",
    "        # Softmax\n",
    "        return something\n",
    "```"
   ]
  },
  {
   "cell_type": "code",
   "execution_count": 23,
   "metadata": {},
   "outputs": [],
   "source": [
    "class Linear(nn.Module): # Inheritance torch.nn.Module\n",
    "    def __init__(self, in_features, out_features):\n",
    "        super(Linear, self).__init__()\n",
    "        self.weight = nn.Parameter(torch.randn(in_features, out_features)) \n",
    "        self.bias = nn.Parameter(torch.randn(out_features))\n",
    "    \n",
    "    def forward(self, x): # x is the input\n",
    "        x = x.mm(self.weight) \n",
    "        return x + self.bias"
   ]
  },
  {
   "cell_type": "markdown",
   "metadata": {},
   "source": [
    "Some notes to keep in mind:\n",
    "\n",
    "1. The Linear layer we define needs to inherit from the nn.Module (torch.nn.Module) class. After inheriting this class, the Linear class can use the functions defined in the nn.Module class, such as eval(), to(). At the same time, after inheriting, we need to call the initialization function of the parent class, i.e., super(Linear, self).__init__().\n",
    "2. Here we define two types of parameters, i.e., self.weight and self.bias.\n",
    "3. When defining the parameters, we use torch.randn(), which initializes the parameters.\n",
    "4. The forward function represents the forward process in the network and obtains the output. Since this class inherits from nn.Module, when we instantiate this class, such as layer = Linear(...), layer() is equivalent to layer.forward()."
   ]
  },
  {
   "cell_type": "code",
   "execution_count": 24,
   "metadata": {},
   "outputs": [],
   "source": [
    "class MLP(nn.Module):\n",
    "    def __init__(self, in_features, hidden_features, out_features):\n",
    "        super(MLP, self).__init__()\n",
    "        self.in_features = in_features\n",
    "        self.layer1 = Linear(in_features, hidden_features)  # Linear()\n",
    "        self.layer2 = Linear(hidden_features, out_features)\n",
    "        \n",
    "    def forward(self,x):\n",
    "        x = x.view(-1, self.in_features) # Transform each image to a vector,\n",
    "        x = self.layer1(x)\n",
    "        x = F.relu(x) # ReLU\n",
    "        return self.layer2(x)"
   ]
  },
  {
   "cell_type": "markdown",
   "metadata": {},
   "source": [
    "Some notes to keep in mind:\n",
    "\n",
    "1. Similarly, the MLP class also needs to inherit from nn.Module.\n",
    "2. We need a non-linear activation layer between layers, and here we use ReLU.\n",
    "3. Not all MLPs need the step x = x.view(-1, self.in_features). Here, we only do this because our input data is two-dimensional images, and we need to convert them to vectors.\n",
    "4. Note that we did not use the Softmax layer here because we use torch.nn.CrossEntropyLoss as the loss function later, which already includes the Softmax operation.\n",
    "\n",
    "\n"
   ]
  },
  {
   "cell_type": "markdown",
   "metadata": {},
   "source": [
    "## 2.1.2 Using Pre-defined Neural Network Layers in PyTorch\n",
    "Next, we will directly use the pre-defined linear layer (torch.nn.Linear) in PyTorch instead of defining it manually."
   ]
  },
  {
   "cell_type": "code",
   "execution_count": 25,
   "metadata": {},
   "outputs": [],
   "source": [
    "class MLP(nn.Module):\n",
    "    def __init__(self, in_features, hidden_features, out_features):\n",
    "        super(MLP, self).__init__()\n",
    "        self.in_features = in_features\n",
    "        self.layer1 = nn.Linear(in_features, hidden_features) # nn.Linear is a class in PyTorch\n",
    "        self.layer2 = nn.Linear(hidden_features, out_features)\n",
    "        \n",
    "    def forward(self, x):\n",
    "        x = x.view(-1, self.in_features)\n",
    "        x = self.layer1(x)\n",
    "        x = F.relu(x)\n",
    "        return self.layer2(x)"
   ]
  },
  {
   "cell_type": "markdown",
   "metadata": {},
   "source": [
    "There are a lot of pre-defined layers/networks in Pytorch. Please refer to https://pytorch.org/docs/stable/nn.html."
   ]
  },
  {
   "cell_type": "markdown",
   "metadata": {},
   "source": [
    "### 2.1.3  Foward propogation"
   ]
  },
  {
   "cell_type": "code",
   "execution_count": 26,
   "metadata": {},
   "outputs": [],
   "source": [
    "# Take the first image as an example\n",
    "\n",
    "img, label = data_train[0]\n",
    "img = img.view(-1)  # (1,28,28) --> (784,)\n",
    "feat_dim = len(img) # 784\n",
    "num_classes = 10\n",
    "model = MLP(in_features=feat_dim, hidden_features=256, out_features=num_classes)"
   ]
  },
  {
   "cell_type": "code",
   "execution_count": 27,
   "metadata": {},
   "outputs": [
    {
     "data": {
      "text/plain": [
       "MLP(\n",
       "  (layer1): Linear(in_features=784, out_features=256, bias=True)\n",
       "  (layer2): Linear(in_features=256, out_features=10, bias=True)\n",
       ")"
      ]
     },
     "execution_count": 27,
     "metadata": {},
     "output_type": "execute_result"
    }
   ],
   "source": [
    "model"
   ]
  },
  {
   "cell_type": "code",
   "execution_count": 28,
   "metadata": {},
   "outputs": [],
   "source": [
    "# We define a device variable to determine whether we want to run the data and model on the GPU.\n",
    "# If CUDA is not installed, we will use the CPU.\n",
    "device = 'cuda' if torch.cuda.is_available() else 'cpu'"
   ]
  },
  {
   "cell_type": "code",
   "execution_count": 29,
   "metadata": {},
   "outputs": [
    {
     "data": {
      "text/plain": [
       "'cpu'"
      ]
     },
     "execution_count": 29,
     "metadata": {},
     "output_type": "execute_result"
    }
   ],
   "source": [
    "device"
   ]
  },
  {
   "cell_type": "code",
   "execution_count": 30,
   "metadata": {},
   "outputs": [],
   "source": [
    "# To move the model and data to the device (CPU or GPU):\n",
    "model = model.to(device) \n",
    "img = img.to(device)  "
   ]
  },
  {
   "cell_type": "code",
   "execution_count": 31,
   "metadata": {},
   "outputs": [
    {
     "data": {
      "text/plain": [
       "tensor([[-0.0862, -0.0356, -0.0887,  0.0485,  0.0151,  0.0863, -0.0162,  0.0019,\n",
       "         -0.0135, -0.1770]], grad_fn=<AddmmBackward0>)"
      ]
     },
     "execution_count": 31,
     "metadata": {},
     "output_type": "execute_result"
    }
   ],
   "source": [
    "output = model(img)\n",
    "output"
   ]
  },
  {
   "cell_type": "markdown",
   "metadata": {},
   "source": [
    "The output of the model is a vector of length 10. We can consider each element as the probability of the corresponding class (here, it is the unnormalized probability, usually referred to as logits)."
   ]
  },
  {
   "cell_type": "code",
   "execution_count": 32,
   "metadata": {},
   "outputs": [
    {
     "name": "stdout",
     "output_type": "stream",
     "text": [
      "Predicted Label: 5 ; True Label: 5\n"
     ]
    }
   ],
   "source": [
    "# We take the class corresponding to the maximum value and compare it with the true class:\n",
    "predicted = output.argmax()\n",
    "print('Predicted Label:', predicted.item(), '; True Label:', label)"
   ]
  },
  {
   "cell_type": "markdown",
   "metadata": {},
   "source": [
    "### 2.2 Train a Neural Network\n",
    "Previously, we explained how to build a neural network and how to obtain the output for the corresponding data, but the parameters in the model have not been optimized, so the prediction results are often poor. Next, we will explain how to train a neural network.\n",
    "```\n",
    "# Pseudo Code\n",
    "def train():\n",
    "    for epoch in num_epochs:\n",
    "        # Get a batch of data\n",
    "        # Forward\n",
    "        # Calculate loss\n",
    "        # Backward\n",
    "        # Update paramters\n",
    "```"
   ]
  },
  {
   "cell_type": "code",
   "execution_count": 33,
   "metadata": {},
   "outputs": [],
   "source": [
    "\n",
    "def train(model, data, num_epochs=5, learning_rate=1e-3, batch_size=32):\n",
    "    # define an optimizer\n",
    "    optimizer = torch.optim.Adam(model.parameters(),\n",
    "                                 lr=learning_rate, \n",
    "                                 weight_decay=1e-5) # weight_decay is the L2 Regularization\n",
    "    \n",
    "    # Put the data into DataLoader，so we can get a batch of data\n",
    "    train_loader = torch.utils.data.DataLoader(data, \n",
    "                                               batch_size=batch_size, \n",
    "                                               shuffle=True)\n",
    "    # define loss function\n",
    "    criterion = nn.CrossEntropyLoss()\n",
    "    \n",
    "    for epoch in range(num_epochs):\n",
    "        loss_total = 0 # \n",
    "        for data in train_loader:\n",
    "            # clear the gradient\n",
    "            optimizer.zero_grad()\n",
    "            \n",
    "            img, label = data\n",
    "            img = img.to(device)\n",
    "            label = label.to(device)\n",
    "            \n",
    "            # forward, loss and backward \n",
    "            output = model(img)\n",
    "            loss = criterion(output, label)\n",
    "            loss.backward()\n",
    "            \n",
    "            # optimize the parameters\n",
    "            optimizer.step()\n",
    "            \n",
    "        loss_total += loss.item() \n",
    "        print('Epoch: {}, Training Loss: {:.4f}'.format(epoch+1, loss_total))\n"
   ]
  },
  {
   "cell_type": "code",
   "execution_count": null,
   "metadata": {},
   "outputs": [
    {
     "name": "stdout",
     "output_type": "stream",
     "text": [
      "Epoch: 1, Training Loss: 0.1671\n",
      "Epoch: 2, Training Loss: 0.1440\n",
      "Epoch: 3, Training Loss: 0.0536\n",
      "Epoch: 4, Training Loss: 0.0694\n"
     ]
    }
   ],
   "source": [
    "train(model, data_train)"
   ]
  },
  {
   "cell_type": "code",
   "execution_count": null,
   "metadata": {},
   "outputs": [],
   "source": [
    "@torch.no_grad() # We need not to do gradient backpropagation during test\n",
    "def test(model, data, batch_size=128):\n",
    "    num_correct = 0 # Correct prediction\n",
    "    num_total = 0 # All images\n",
    "    \n",
    "    test_loader = torch.utils.data.DataLoader(data, \n",
    "                                              batch_size=batch_size, \n",
    "                                              shuffle=False)\n",
    "    for data in test_loader: # get the batch data\n",
    "        img, label = data\n",
    "        img = img.to(device)\n",
    "        label = label.to(device)\n",
    "        output = model(img)\n",
    "        predicted = output.argmax(1) # prediction\n",
    "        num_total += len(label)\n",
    "        num_correct += (predicted == label).sum()\n",
    "\n",
    "    print('There are {} images，the Accuracy is : {:.2f}%'.format(num_correct, 100 * num_correct / num_total))    "
   ]
  },
  {
   "cell_type": "code",
   "execution_count": null,
   "metadata": {},
   "outputs": [],
   "source": [
    "test(model, data_train)\n",
    "test(model, data_test)"
   ]
  },
  {
   "cell_type": "markdown",
   "metadata": {},
   "source": [
    "We often split data into train, validation, test sets. Then, we can test the validation set accuracy every epoch. And choose the epoch with highest validation accuray as our final model. We can test on the test set based on the selected model."
   ]
  },
  {
   "cell_type": "code",
   "execution_count": null,
   "metadata": {},
   "outputs": [],
   "source": []
  }
 ],
 "metadata": {
  "kernelspec": {
   "display_name": "gnn",
   "language": "python",
   "name": "gnn"
  },
  "language_info": {
   "codemirror_mode": {
    "name": "ipython",
    "version": 3
   },
   "file_extension": ".py",
   "mimetype": "text/x-python",
   "name": "python",
   "nbconvert_exporter": "python",
   "pygments_lexer": "ipython3",
   "version": "3.8.16"
  }
 },
 "nbformat": 4,
 "nbformat_minor": 4
}
