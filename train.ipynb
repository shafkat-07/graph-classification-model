{
 "cells": [
  {
   "cell_type": "code",
   "execution_count": 1,
   "id": "ac66f73f-6596-4d7b-aeaa-7a214569cc0d",
   "metadata": {},
   "outputs": [
    {
     "name": "stdout",
     "output_type": "stream",
     "text": [
      "Defaulting to user installation because normal site-packages is not writeable\n",
      "Collecting torch_geometric\n",
      "  Downloading torch_geometric-2.5.2-py3-none-any.whl.metadata (64 kB)\n",
      "\u001b[2K     \u001b[90m━━━━━━━━━━━━━━━━━━━━━━━━━━━━━━━━━━━━━━━━\u001b[0m \u001b[32m64.2/64.2 kB\u001b[0m \u001b[31m4.1 MB/s\u001b[0m eta \u001b[36m0:00:00\u001b[0m\n",
      "\u001b[?25hRequirement already satisfied: tqdm in /opt/miniconda3/lib/python3.11/site-packages (from torch_geometric) (4.66.1)\n",
      "Requirement already satisfied: numpy in /opt/miniconda3/lib/python3.11/site-packages (from torch_geometric) (1.26.2)\n",
      "Requirement already satisfied: scipy in /opt/miniconda3/lib/python3.11/site-packages (from torch_geometric) (1.10.1)\n",
      "Requirement already satisfied: fsspec in /opt/miniconda3/lib/python3.11/site-packages (from torch_geometric) (2023.4.0)\n",
      "Requirement already satisfied: jinja2 in /opt/miniconda3/lib/python3.11/site-packages (from torch_geometric) (3.1.2)\n",
      "Requirement already satisfied: aiohttp in /opt/miniconda3/lib/python3.11/site-packages (from torch_geometric) (3.9.1)\n",
      "Requirement already satisfied: requests in /opt/miniconda3/lib/python3.11/site-packages (from torch_geometric) (2.31.0)\n",
      "Requirement already satisfied: pyparsing in /opt/miniconda3/lib/python3.11/site-packages (from torch_geometric) (3.0.9)\n",
      "Requirement already satisfied: scikit-learn in /opt/miniconda3/lib/python3.11/site-packages (from torch_geometric) (1.3.2)\n",
      "Requirement already satisfied: psutil>=5.8.0 in /opt/miniconda3/lib/python3.11/site-packages (from torch_geometric) (5.9.5)\n",
      "Requirement already satisfied: attrs>=17.3.0 in /opt/miniconda3/lib/python3.11/site-packages (from aiohttp->torch_geometric) (23.1.0)\n",
      "Requirement already satisfied: multidict<7.0,>=4.5 in /opt/miniconda3/lib/python3.11/site-packages (from aiohttp->torch_geometric) (6.0.4)\n",
      "Requirement already satisfied: yarl<2.0,>=1.0 in /opt/miniconda3/lib/python3.11/site-packages (from aiohttp->torch_geometric) (1.9.3)\n",
      "Requirement already satisfied: frozenlist>=1.1.1 in /opt/miniconda3/lib/python3.11/site-packages (from aiohttp->torch_geometric) (1.4.0)\n",
      "Requirement already satisfied: aiosignal>=1.1.2 in /opt/miniconda3/lib/python3.11/site-packages (from aiohttp->torch_geometric) (1.3.1)\n",
      "Requirement already satisfied: MarkupSafe>=2.0 in /opt/miniconda3/lib/python3.11/site-packages (from jinja2->torch_geometric) (2.1.3)\n",
      "Requirement already satisfied: charset-normalizer<4,>=2 in /opt/miniconda3/lib/python3.11/site-packages (from requests->torch_geometric) (2.0.4)\n",
      "Requirement already satisfied: idna<4,>=2.5 in /opt/miniconda3/lib/python3.11/site-packages (from requests->torch_geometric) (3.4)\n",
      "Requirement already satisfied: urllib3<3,>=1.21.1 in /opt/miniconda3/lib/python3.11/site-packages (from requests->torch_geometric) (1.26.18)\n",
      "Requirement already satisfied: certifi>=2017.4.17 in /opt/miniconda3/lib/python3.11/site-packages (from requests->torch_geometric) (2023.11.17)\n",
      "Requirement already satisfied: joblib>=1.1.1 in /opt/miniconda3/lib/python3.11/site-packages (from scikit-learn->torch_geometric) (1.3.2)\n",
      "Requirement already satisfied: threadpoolctl>=2.0.0 in /opt/miniconda3/lib/python3.11/site-packages (from scikit-learn->torch_geometric) (3.2.0)\n",
      "Downloading torch_geometric-2.5.2-py3-none-any.whl (1.1 MB)\n",
      "\u001b[2K   \u001b[90m━━━━━━━━━━━━━━━━━━━━━━━━━━━━━━━━━━━━━━━━\u001b[0m \u001b[32m1.1/1.1 MB\u001b[0m \u001b[31m46.4 MB/s\u001b[0m eta \u001b[36m0:00:00\u001b[0m\n",
      "\u001b[?25hInstalling collected packages: torch_geometric\n",
      "Successfully installed torch_geometric-2.5.2\n"
     ]
    }
   ],
   "source": [
    "!pip install torch_geometric\n",
    "# !pip install torch_sparse"
   ]
  },
  {
   "cell_type": "code",
   "execution_count": 2,
   "id": "ac6aa182-e7cd-426b-9073-16118f467d39",
   "metadata": {},
   "outputs": [],
   "source": [
    "import torch\n",
    "import torch.nn.functional as F\n",
    "from torch_geometric.nn import GCNConv\n",
    "from torch_geometric.data import Data, DataLoader\n",
    "from sklearn.model_selection import train_test_split\n",
    "import numpy as np\n",
    "import json\n",
    "import scipy.sparse as sp"
   ]
  },
  {
   "cell_type": "code",
   "execution_count": 8,
   "id": "7f0206a5-e6c0-4969-853b-e75cc7961afe",
   "metadata": {},
   "outputs": [
    {
     "data": {
      "text/plain": [
       "(array([1., 1., 1., ..., 1., 1., 1.], dtype=float32),\n",
       " array([1084, 1104, 1288, ...,  931,  933,  999], dtype=int32),\n",
       " array([    0,     5,     9, ..., 10095, 10099, 10100], dtype=int32),\n",
       " array([2480, 2480]),\n",
       " array([[   0,    0,    0, ..., 2478, 2478, 2479],\n",
       "        [1084, 1104, 1288, ...,  931,  933,  999]], dtype=int32))"
      ]
     },
     "execution_count": 8,
     "metadata": {},
     "output_type": "execute_result"
    }
   ],
   "source": [
    "# Step 1: Load the dataset\n",
    "\n",
    "adjacency_matrix = np.load('adj.npz')\n",
    "feature_matrix = np.load('features.npy')\n",
    "labels = np.load('labels.npy')\n",
    "with open('splits.json', 'r') as f:\n",
    "  data_splits = json.load(f)\n",
    "\n",
    "\n",
    "data, indices, indptr, shape = adjacency_matrix['data'], adjacency_matrix['indices'], adjacency_matrix['indptr'], adjacency_matrix['shape']\n",
    "adjacency_matrix = sp.csr_matrix((data, indices, indptr), shape=shape)\n",
    "coo_matrix = adjacency_matrix.tocoo()\n",
    "\n",
    "# Extract edge indices\n",
    "edge_index = np.vstack((coo_matrix.row, coo_matrix.col))\n",
    "\n",
    "\n",
    "train_idx = data_splits['idx_train']\n",
    "\n",
    "#if not in the train, put in the test\n",
    "test_idx = []\n",
    "for i in range(2480):\n",
    "  if i not in train_idx:\n",
    "    test_idx.append(i)\n",
    "\n",
    "\n",
    "train_feature_matrix = feature_matrix[train_idx]\n",
    "test_feature_matrix = feature_matrix[test_idx]\n",
    "\n",
    "data, indices, indptr, shape, edge_index\n",
    "\n",
    "#1390 x 1984 for test, #1390 x 496 for train\n",
    "# print(np.size(test_feature_matrix, axis=0))\n",
    "# print(np.size(test_feature_matrix, axis=0))\n",
    "# print(np.size(train_feature_matrix, axis=1))\n",
    "# print(np.size(train_feature_matrix, axis=1))"
   ]
  },
  {
   "cell_type": "code",
   "execution_count": 9,
   "id": "287eec8b-f845-45e2-b0dc-d62564b4eb3f",
   "metadata": {},
   "outputs": [],
   "source": [
    "# Create PyTorch Geometric Data object for training\n",
    "x_train = torch.tensor(train_feature_matrix, dtype=torch.float)\n",
    "y_train = torch.tensor(labels, dtype=torch.long)\n",
    "train_data = Data(x=x_train, edge_index=edge_index, edge_attr=None, y=y_train)"
   ]
  },
  {
   "cell_type": "code",
   "execution_count": 10,
   "id": "53d94733-97ac-43bb-aba5-4477d30c3b92",
   "metadata": {},
   "outputs": [
    {
     "ename": "TypeError",
     "evalue": "sort() got an unexpected keyword argument 'stable'",
     "output_type": "error",
     "traceback": [
      "\u001b[0;31m---------------------------------------------------------------------------\u001b[0m",
      "\u001b[0;31mTypeError\u001b[0m                                 Traceback (most recent call last)",
      "Cell \u001b[0;32mIn[10], line 5\u001b[0m\n\u001b[1;32m      2\u001b[0m x_test \u001b[38;5;241m=\u001b[39m torch\u001b[38;5;241m.\u001b[39mtensor(test_feature_matrix, dtype\u001b[38;5;241m=\u001b[39mtorch\u001b[38;5;241m.\u001b[39mfloat)\n\u001b[1;32m      3\u001b[0m test_data \u001b[38;5;241m=\u001b[39m Data(x\u001b[38;5;241m=\u001b[39mx_test, edge_index\u001b[38;5;241m=\u001b[39medge_index, edge_attr\u001b[38;5;241m=\u001b[39m\u001b[38;5;28;01mNone\u001b[39;00m)\n\u001b[0;32m----> 5\u001b[0m \u001b[43mtest_data\u001b[49m\u001b[38;5;241;43m.\u001b[39;49m\u001b[43mis_directed\u001b[49m\u001b[43m(\u001b[49m\u001b[43m)\u001b[49m\n",
      "File \u001b[0;32m~/.local/lib/python3.11/site-packages/torch_geometric/data/data.py:325\u001b[0m, in \u001b[0;36mBaseData.is_directed\u001b[0;34m(self)\u001b[0m\n\u001b[1;32m    323\u001b[0m \u001b[38;5;28;01mdef\u001b[39;00m \u001b[38;5;21mis_directed\u001b[39m(\u001b[38;5;28mself\u001b[39m) \u001b[38;5;241m-\u001b[39m\u001b[38;5;241m>\u001b[39m \u001b[38;5;28mbool\u001b[39m:\n\u001b[1;32m    324\u001b[0m \u001b[38;5;250m    \u001b[39m\u001b[38;5;124mr\u001b[39m\u001b[38;5;124;03m\"\"\"Returns :obj:`True` if graph edges are directed.\"\"\"\u001b[39;00m\n\u001b[0;32m--> 325\u001b[0m     \u001b[38;5;28;01mreturn\u001b[39;00m \u001b[38;5;129;01mnot\u001b[39;00m \u001b[38;5;28;43mself\u001b[39;49m\u001b[38;5;241;43m.\u001b[39;49m\u001b[43mis_undirected\u001b[49m\u001b[43m(\u001b[49m\u001b[43m)\u001b[49m\n",
      "File \u001b[0;32m~/.local/lib/python3.11/site-packages/torch_geometric/data/data.py:321\u001b[0m, in \u001b[0;36mBaseData.is_undirected\u001b[0;34m(self)\u001b[0m\n\u001b[1;32m    319\u001b[0m \u001b[38;5;28;01mdef\u001b[39;00m \u001b[38;5;21mis_undirected\u001b[39m(\u001b[38;5;28mself\u001b[39m) \u001b[38;5;241m-\u001b[39m\u001b[38;5;241m>\u001b[39m \u001b[38;5;28mbool\u001b[39m:\n\u001b[1;32m    320\u001b[0m \u001b[38;5;250m    \u001b[39m\u001b[38;5;124mr\u001b[39m\u001b[38;5;124;03m\"\"\"Returns :obj:`True` if graph edges are undirected.\"\"\"\u001b[39;00m\n\u001b[0;32m--> 321\u001b[0m     \u001b[38;5;28;01mreturn\u001b[39;00m \u001b[38;5;28mall\u001b[39m(\u001b[43m[\u001b[49m\u001b[43mstore\u001b[49m\u001b[38;5;241;43m.\u001b[39;49m\u001b[43mis_undirected\u001b[49m\u001b[43m(\u001b[49m\u001b[43m)\u001b[49m\u001b[43m \u001b[49m\u001b[38;5;28;43;01mfor\u001b[39;49;00m\u001b[43m \u001b[49m\u001b[43mstore\u001b[49m\u001b[43m \u001b[49m\u001b[38;5;129;43;01min\u001b[39;49;00m\u001b[43m \u001b[49m\u001b[38;5;28;43mself\u001b[39;49m\u001b[38;5;241;43m.\u001b[39;49m\u001b[43medge_stores\u001b[49m\u001b[43m]\u001b[49m)\n",
      "File \u001b[0;32m~/.local/lib/python3.11/site-packages/torch_geometric/data/data.py:321\u001b[0m, in \u001b[0;36m<listcomp>\u001b[0;34m(.0)\u001b[0m\n\u001b[1;32m    319\u001b[0m \u001b[38;5;28;01mdef\u001b[39;00m \u001b[38;5;21mis_undirected\u001b[39m(\u001b[38;5;28mself\u001b[39m) \u001b[38;5;241m-\u001b[39m\u001b[38;5;241m>\u001b[39m \u001b[38;5;28mbool\u001b[39m:\n\u001b[1;32m    320\u001b[0m \u001b[38;5;250m    \u001b[39m\u001b[38;5;124mr\u001b[39m\u001b[38;5;124;03m\"\"\"Returns :obj:`True` if graph edges are undirected.\"\"\"\u001b[39;00m\n\u001b[0;32m--> 321\u001b[0m     \u001b[38;5;28;01mreturn\u001b[39;00m \u001b[38;5;28mall\u001b[39m([\u001b[43mstore\u001b[49m\u001b[38;5;241;43m.\u001b[39;49m\u001b[43mis_undirected\u001b[49m\u001b[43m(\u001b[49m\u001b[43m)\u001b[49m \u001b[38;5;28;01mfor\u001b[39;00m store \u001b[38;5;129;01min\u001b[39;00m \u001b[38;5;28mself\u001b[39m\u001b[38;5;241m.\u001b[39medge_stores])\n",
      "File \u001b[0;32m~/.local/lib/python3.11/site-packages/torch_geometric/data/storage.py:748\u001b[0m, in \u001b[0;36mEdgeStorage.is_undirected\u001b[0;34m(self)\u001b[0m\n\u001b[1;32m    746\u001b[0m edge_index \u001b[38;5;241m=\u001b[39m \u001b[38;5;28mself\u001b[39m\u001b[38;5;241m.\u001b[39medge_index\n\u001b[1;32m    747\u001b[0m edge_attr \u001b[38;5;241m=\u001b[39m \u001b[38;5;28mself\u001b[39m\u001b[38;5;241m.\u001b[39medge_attr \u001b[38;5;28;01mif\u001b[39;00m \u001b[38;5;124m'\u001b[39m\u001b[38;5;124medge_attr\u001b[39m\u001b[38;5;124m'\u001b[39m \u001b[38;5;129;01min\u001b[39;00m \u001b[38;5;28mself\u001b[39m \u001b[38;5;28;01melse\u001b[39;00m \u001b[38;5;28;01mNone\u001b[39;00m\n\u001b[0;32m--> 748\u001b[0m \u001b[38;5;28;01mreturn\u001b[39;00m \u001b[43mis_undirected\u001b[49m\u001b[43m(\u001b[49m\u001b[43medge_index\u001b[49m\u001b[43m,\u001b[49m\u001b[43m \u001b[49m\u001b[43medge_attr\u001b[49m\u001b[43m,\u001b[49m\u001b[43m \u001b[49m\u001b[43mnum_nodes\u001b[49m\u001b[38;5;241;43m=\u001b[39;49m\u001b[38;5;28;43mself\u001b[39;49m\u001b[38;5;241;43m.\u001b[39;49m\u001b[43msize\u001b[49m\u001b[43m(\u001b[49m\u001b[38;5;241;43m0\u001b[39;49m\u001b[43m)\u001b[49m\u001b[43m)\u001b[49m\n",
      "File \u001b[0;32m~/.local/lib/python3.11/site-packages/torch_geometric/utils/undirected.py:76\u001b[0m, in \u001b[0;36mis_undirected\u001b[0;34m(edge_index, edge_attr, num_nodes)\u001b[0m\n\u001b[1;32m     73\u001b[0m \u001b[38;5;28;01melif\u001b[39;00m \u001b[38;5;28misinstance\u001b[39m(edge_attr, (\u001b[38;5;28mlist\u001b[39m, \u001b[38;5;28mtuple\u001b[39m)):\n\u001b[1;32m     74\u001b[0m     edge_attrs \u001b[38;5;241m=\u001b[39m edge_attr\n\u001b[0;32m---> 76\u001b[0m edge_index1, edge_attrs1 \u001b[38;5;241m=\u001b[39m \u001b[43msort_edge_index\u001b[49m\u001b[43m(\u001b[49m\n\u001b[1;32m     77\u001b[0m \u001b[43m    \u001b[49m\u001b[43medge_index\u001b[49m\u001b[43m,\u001b[49m\n\u001b[1;32m     78\u001b[0m \u001b[43m    \u001b[49m\u001b[43medge_attrs\u001b[49m\u001b[43m,\u001b[49m\n\u001b[1;32m     79\u001b[0m \u001b[43m    \u001b[49m\u001b[43mnum_nodes\u001b[49m\u001b[38;5;241;43m=\u001b[39;49m\u001b[43mnum_nodes\u001b[49m\u001b[43m,\u001b[49m\n\u001b[1;32m     80\u001b[0m \u001b[43m    \u001b[49m\u001b[43msort_by_row\u001b[49m\u001b[38;5;241;43m=\u001b[39;49m\u001b[38;5;28;43;01mTrue\u001b[39;49;00m\u001b[43m,\u001b[49m\n\u001b[1;32m     81\u001b[0m \u001b[43m\u001b[49m\u001b[43m)\u001b[49m\n\u001b[1;32m     82\u001b[0m edge_index2, edge_attrs2 \u001b[38;5;241m=\u001b[39m sort_edge_index(\n\u001b[1;32m     83\u001b[0m     edge_index,\n\u001b[1;32m     84\u001b[0m     edge_attrs,\n\u001b[1;32m     85\u001b[0m     num_nodes\u001b[38;5;241m=\u001b[39mnum_nodes,\n\u001b[1;32m     86\u001b[0m     sort_by_row\u001b[38;5;241m=\u001b[39m\u001b[38;5;28;01mFalse\u001b[39;00m,\n\u001b[1;32m     87\u001b[0m )\n\u001b[1;32m     89\u001b[0m \u001b[38;5;28;01mif\u001b[39;00m \u001b[38;5;129;01mnot\u001b[39;00m torch\u001b[38;5;241m.\u001b[39mequal(edge_index1[\u001b[38;5;241m0\u001b[39m], edge_index2[\u001b[38;5;241m1\u001b[39m]):\n",
      "File \u001b[0;32m~/.local/lib/python3.11/site-packages/torch_geometric/utils/_sort_edge_index.py:119\u001b[0m, in \u001b[0;36msort_edge_index\u001b[0;34m(edge_index, edge_attr, num_nodes, sort_by_row)\u001b[0m\n\u001b[1;32m    117\u001b[0m     idx \u001b[38;5;241m=\u001b[39m edge_index[\u001b[38;5;241m1\u001b[39m \u001b[38;5;241m-\u001b[39m \u001b[38;5;28mint\u001b[39m(sort_by_row)] \u001b[38;5;241m*\u001b[39m num_nodes\n\u001b[1;32m    118\u001b[0m     idx \u001b[38;5;241m+\u001b[39m\u001b[38;5;241m=\u001b[39m edge_index[\u001b[38;5;28mint\u001b[39m(sort_by_row)]\n\u001b[0;32m--> 119\u001b[0m     _, perm \u001b[38;5;241m=\u001b[39m \u001b[43mindex_sort\u001b[49m\u001b[43m(\u001b[49m\u001b[43midx\u001b[49m\u001b[43m,\u001b[49m\u001b[43m \u001b[49m\u001b[43mmax_value\u001b[49m\u001b[38;5;241;43m=\u001b[39;49m\u001b[43mnum_nodes\u001b[49m\u001b[43m \u001b[49m\u001b[38;5;241;43m*\u001b[39;49m\u001b[43m \u001b[49m\u001b[43mnum_nodes\u001b[49m\u001b[43m)\u001b[49m\n\u001b[1;32m    121\u001b[0m \u001b[38;5;28;01mif\u001b[39;00m \u001b[38;5;28misinstance\u001b[39m(edge_index, Tensor):\n\u001b[1;32m    122\u001b[0m     is_undirected \u001b[38;5;241m=\u001b[39m \u001b[38;5;28;01mFalse\u001b[39;00m\n",
      "File \u001b[0;32m~/.local/lib/python3.11/site-packages/torch_geometric/utils/_index_sort.py:31\u001b[0m, in \u001b[0;36mindex_sort\u001b[0;34m(inputs, max_value, stable)\u001b[0m\n\u001b[1;32m     15\u001b[0m \u001b[38;5;250m\u001b[39m\u001b[38;5;124mr\u001b[39m\u001b[38;5;124;03m\"\"\"Sorts the elements of the :obj:`inputs` tensor in ascending order.\u001b[39;00m\n\u001b[1;32m     16\u001b[0m \u001b[38;5;124;03mIt is expected that :obj:`inputs` is one-dimensional and that it only\u001b[39;00m\n\u001b[1;32m     17\u001b[0m \u001b[38;5;124;03mcontains positive integer values. If :obj:`max_value` is given, it can\u001b[39;00m\n\u001b[0;32m   (...)\u001b[0m\n\u001b[1;32m     28\u001b[0m \u001b[38;5;124;03m        (default: :obj:`False`)\u001b[39;00m\n\u001b[1;32m     29\u001b[0m \u001b[38;5;124;03m\"\"\"\u001b[39;00m\n\u001b[1;32m     30\u001b[0m \u001b[38;5;28;01mif\u001b[39;00m stable \u001b[38;5;129;01mor\u001b[39;00m \u001b[38;5;129;01mnot\u001b[39;00m torch_geometric\u001b[38;5;241m.\u001b[39mtyping\u001b[38;5;241m.\u001b[39mWITH_INDEX_SORT \u001b[38;5;129;01mor\u001b[39;00m is_compiling():\n\u001b[0;32m---> 31\u001b[0m     \u001b[38;5;28;01mreturn\u001b[39;00m \u001b[43minputs\u001b[49m\u001b[38;5;241;43m.\u001b[39;49m\u001b[43msort\u001b[49m\u001b[43m(\u001b[49m\u001b[43mstable\u001b[49m\u001b[38;5;241;43m=\u001b[39;49m\u001b[43mstable\u001b[49m\u001b[43m)\u001b[49m\n\u001b[1;32m     32\u001b[0m \u001b[38;5;28;01mreturn\u001b[39;00m pyg_lib\u001b[38;5;241m.\u001b[39mops\u001b[38;5;241m.\u001b[39mindex_sort(inputs, max_value\u001b[38;5;241m=\u001b[39mmax_value)\n",
      "\u001b[0;31mTypeError\u001b[0m: sort() got an unexpected keyword argument 'stable'"
     ]
    }
   ],
   "source": [
    "# Create PyTorch Geometric Data object for testing\n",
    "x_test = torch.tensor(test_feature_matrix, dtype=torch.float)\n",
    "test_data = Data(x=x_test, edge_index=edge_index, edge_attr=None)\n",
    "\n",
    "test_data.is_directed()"
   ]
  },
  {
   "cell_type": "code",
   "execution_count": 11,
   "id": "9b002e16-a38e-4b56-8a36-df11d8475a74",
   "metadata": {},
   "outputs": [],
   "source": [
    "# Define Graph Neural Network model\n",
    "class GCN(torch.nn.Module):\n",
    "    def __init__(self):\n",
    "        super(GCN, self).__init__()\n",
    "        self.conv1 = GCNConv(feature_matrix.shape[1], 16)\n",
    "        self.conv2 = GCNConv(16, len(np.unique(labels)))\n",
    "\n",
    "    def forward(self, data):\n",
    "        x = data.x\n",
    "        x = self.conv1(x, data.edge_index)\n",
    "        x = F.relu(x)\n",
    "        x = F.dropout(x, training=self.training)\n",
    "        x = self.conv2(x, data.edge_index)\n",
    "        return F.log_softmax(x, dim=1)"
   ]
  },
  {
   "cell_type": "code",
   "execution_count": 7,
   "id": "2ea95891-8292-4b8a-8a8b-103db7388f2b",
   "metadata": {},
   "outputs": [
    {
     "ename": "NameError",
     "evalue": "name 'feature_matrix' is not defined",
     "output_type": "error",
     "traceback": [
      "\u001b[0;31m---------------------------------------------------------------------------\u001b[0m",
      "\u001b[0;31mNameError\u001b[0m                                 Traceback (most recent call last)",
      "Cell \u001b[0;32mIn[7], line 2\u001b[0m\n\u001b[1;32m      1\u001b[0m \u001b[38;5;66;03m# Instantiate the model, optimizer, and loss function\u001b[39;00m\n\u001b[0;32m----> 2\u001b[0m model \u001b[38;5;241m=\u001b[39m \u001b[43mGCN\u001b[49m\u001b[43m(\u001b[49m\u001b[43m)\u001b[49m\n\u001b[1;32m      3\u001b[0m optimizer \u001b[38;5;241m=\u001b[39m torch\u001b[38;5;241m.\u001b[39moptim\u001b[38;5;241m.\u001b[39mAdam(model\u001b[38;5;241m.\u001b[39mparameters(), lr\u001b[38;5;241m=\u001b[39m\u001b[38;5;241m0.01\u001b[39m)\n\u001b[1;32m      4\u001b[0m criterion \u001b[38;5;241m=\u001b[39m torch\u001b[38;5;241m.\u001b[39mnn\u001b[38;5;241m.\u001b[39mNLLLoss()\n",
      "Cell \u001b[0;32mIn[6], line 5\u001b[0m, in \u001b[0;36mGCN.__init__\u001b[0;34m(self)\u001b[0m\n\u001b[1;32m      3\u001b[0m \u001b[38;5;28;01mdef\u001b[39;00m \u001b[38;5;21m__init__\u001b[39m(\u001b[38;5;28mself\u001b[39m):\n\u001b[1;32m      4\u001b[0m     \u001b[38;5;28msuper\u001b[39m(GCN, \u001b[38;5;28mself\u001b[39m)\u001b[38;5;241m.\u001b[39m\u001b[38;5;21m__init__\u001b[39m()\n\u001b[0;32m----> 5\u001b[0m     \u001b[38;5;28mself\u001b[39m\u001b[38;5;241m.\u001b[39mconv1 \u001b[38;5;241m=\u001b[39m GCNConv(\u001b[43mfeature_matrix\u001b[49m\u001b[38;5;241m.\u001b[39mshape[\u001b[38;5;241m1\u001b[39m], \u001b[38;5;241m16\u001b[39m)\n\u001b[1;32m      6\u001b[0m     \u001b[38;5;28mself\u001b[39m\u001b[38;5;241m.\u001b[39mconv2 \u001b[38;5;241m=\u001b[39m GCNConv(\u001b[38;5;241m16\u001b[39m, \u001b[38;5;28mlen\u001b[39m(np\u001b[38;5;241m.\u001b[39munique(labels)))\n",
      "\u001b[0;31mNameError\u001b[0m: name 'feature_matrix' is not defined"
     ]
    }
   ],
   "source": [
    "# Instantiate the model, optimizer, and loss function\n",
    "model = GCN()\n",
    "optimizer = torch.optim.Adam(model.parameters(), lr=0.01)\n",
    "criterion = torch.nn.NLLLoss()\n",
    "\n",
    "# Train the model\n",
    "model.train()\n",
    "for epoch in range(200):\n",
    "    optimizer.zero_grad()\n",
    "    out = model(train_data)\n",
    "    loss = criterion(out, train_data.y)\n",
    "    loss.backward()\n",
    "    optimizer.step()"
   ]
  },
  {
   "cell_type": "code",
   "execution_count": null,
   "id": "ded8575f-c405-4a87-ba85-d1488835226f",
   "metadata": {},
   "outputs": [],
   "source": []
  }
 ],
 "metadata": {
  "kernelspec": {
   "display_name": "Python 3.11 (default)",
   "language": "python",
   "name": "python3"
  },
  "language_info": {
   "codemirror_mode": {
    "name": "ipython",
    "version": 3
   },
   "file_extension": ".py",
   "mimetype": "text/x-python",
   "name": "python",
   "nbconvert_exporter": "python",
   "pygments_lexer": "ipython3",
   "version": "3.11.6"
  }
 },
 "nbformat": 4,
 "nbformat_minor": 5
}
