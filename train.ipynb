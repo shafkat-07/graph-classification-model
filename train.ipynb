{
 "cells": [
  {
   "cell_type": "code",
   "execution_count": 1,
   "id": "ac66f73f-6596-4d7b-aeaa-7a214569cc0d",
   "metadata": {},
   "outputs": [
    {
     "name": "stdout",
     "output_type": "stream",
     "text": [
      "Defaulting to user installation because normal site-packages is not writeable\n",
      "Requirement already satisfied: torch_geometric in /home/kabirmd/.local/lib/python3.11/site-packages (2.5.2)\n",
      "Requirement already satisfied: tqdm in /opt/miniconda3/lib/python3.11/site-packages (from torch_geometric) (4.66.1)\n",
      "Requirement already satisfied: numpy in /opt/miniconda3/lib/python3.11/site-packages (from torch_geometric) (1.26.2)\n",
      "Requirement already satisfied: scipy in /opt/miniconda3/lib/python3.11/site-packages (from torch_geometric) (1.10.1)\n",
      "Requirement already satisfied: fsspec in /opt/miniconda3/lib/python3.11/site-packages (from torch_geometric) (2023.4.0)\n",
      "Requirement already satisfied: jinja2 in /opt/miniconda3/lib/python3.11/site-packages (from torch_geometric) (3.1.2)\n",
      "Requirement already satisfied: aiohttp in /opt/miniconda3/lib/python3.11/site-packages (from torch_geometric) (3.9.1)\n",
      "Requirement already satisfied: requests in /opt/miniconda3/lib/python3.11/site-packages (from torch_geometric) (2.31.0)\n",
      "Requirement already satisfied: pyparsing in /opt/miniconda3/lib/python3.11/site-packages (from torch_geometric) (3.0.9)\n",
      "Requirement already satisfied: scikit-learn in /opt/miniconda3/lib/python3.11/site-packages (from torch_geometric) (1.3.2)\n",
      "Requirement already satisfied: psutil>=5.8.0 in /opt/miniconda3/lib/python3.11/site-packages (from torch_geometric) (5.9.5)\n",
      "Requirement already satisfied: attrs>=17.3.0 in /opt/miniconda3/lib/python3.11/site-packages (from aiohttp->torch_geometric) (23.1.0)\n",
      "Requirement already satisfied: multidict<7.0,>=4.5 in /opt/miniconda3/lib/python3.11/site-packages (from aiohttp->torch_geometric) (6.0.4)\n",
      "Requirement already satisfied: yarl<2.0,>=1.0 in /opt/miniconda3/lib/python3.11/site-packages (from aiohttp->torch_geometric) (1.9.3)\n",
      "Requirement already satisfied: frozenlist>=1.1.1 in /opt/miniconda3/lib/python3.11/site-packages (from aiohttp->torch_geometric) (1.4.0)\n",
      "Requirement already satisfied: aiosignal>=1.1.2 in /opt/miniconda3/lib/python3.11/site-packages (from aiohttp->torch_geometric) (1.3.1)\n",
      "Requirement already satisfied: MarkupSafe>=2.0 in /opt/miniconda3/lib/python3.11/site-packages (from jinja2->torch_geometric) (2.1.3)\n",
      "Requirement already satisfied: charset-normalizer<4,>=2 in /opt/miniconda3/lib/python3.11/site-packages (from requests->torch_geometric) (2.0.4)\n",
      "Requirement already satisfied: idna<4,>=2.5 in /opt/miniconda3/lib/python3.11/site-packages (from requests->torch_geometric) (3.4)\n",
      "Requirement already satisfied: urllib3<3,>=1.21.1 in /opt/miniconda3/lib/python3.11/site-packages (from requests->torch_geometric) (1.26.18)\n",
      "Requirement already satisfied: certifi>=2017.4.17 in /opt/miniconda3/lib/python3.11/site-packages (from requests->torch_geometric) (2023.11.17)\n",
      "Requirement already satisfied: joblib>=1.1.1 in /opt/miniconda3/lib/python3.11/site-packages (from scikit-learn->torch_geometric) (1.3.2)\n",
      "Requirement already satisfied: threadpoolctl>=2.0.0 in /opt/miniconda3/lib/python3.11/site-packages (from scikit-learn->torch_geometric) (3.2.0)\n"
     ]
    }
   ],
   "source": [
    "!pip install torch_geometric\n",
    "# !pip install torch_sparse"
   ]
  },
  {
   "cell_type": "code",
   "execution_count": 1,
   "id": "ac6aa182-e7cd-426b-9073-16118f467d39",
   "metadata": {},
   "outputs": [],
   "source": [
    "import torch\n",
    "import torch.nn.functional as F\n",
    "from torch_geometric.utils import from_scipy_sparse_matrix\n",
    "from torch_geometric.nn import GCNConv\n",
    "from torch_geometric.data import Data, DataLoader\n",
    "from sklearn.model_selection import train_test_split\n",
    "import numpy as np\n",
    "import json\n",
    "import scipy.sparse as sp"
   ]
  },
  {
   "cell_type": "code",
   "execution_count": 41,
   "id": "7f0206a5-e6c0-4969-853b-e75cc7961afe",
   "metadata": {},
   "outputs": [],
   "source": [
    "# Load the data\n",
    "adjacency_matrix = sp.load_npz('adj.npz')\n",
    "feature_matrix  = np.load('features.npy')\n",
    "labels = np.load('labels.npy')\n",
    "splits = json.load(open('splits.json'))\n",
    "idx_train, idx_test = splits['idx_train'], splits['idx_test']\n",
    "\n",
    "labels_train = np.zeros(2480)\n",
    "labels_train[labels] = labels\n",
    "# Find edge index\n",
    "edge_index, _ = from_scipy_sparse_matrix(adjacency_matrix)\n"
   ]
  },
  {
   "cell_type": "code",
   "execution_count": 24,
   "id": "04387e51-ae06-434c-a754-badfcc2c1f31",
   "metadata": {},
   "outputs": [
    {
     "data": {
      "text/plain": [
       "Data(x=[2480, 1390], edge_index=[2, 10100], y=[496])"
      ]
     },
     "execution_count": 24,
     "metadata": {},
     "output_type": "execute_result"
    }
   ],
   "source": [
    "# Create the data object\n",
    "data = Data(x=torch.tensor(feature_matrix, dtype=torch.float),\n",
    "            edge_index=edge_index,\n",
    "            y=torch.tensor(labels, dtype=torch.long))\n",
    "data"
   ]
  },
  {
   "cell_type": "code",
   "execution_count": 25,
   "id": "e2d8b60b-db8f-47e9-8a49-12fd1055fb04",
   "metadata": {},
   "outputs": [
    {
     "data": {
      "text/plain": [
       "Data(x=[2480, 1390], edge_index=[2, 10100], y=[496], train_mask=[2480], test_mask=[2480])"
      ]
     },
     "execution_count": 25,
     "metadata": {},
     "output_type": "execute_result"
    }
   ],
   "source": [
    "# Initialize the train_mask and test_mask\n",
    "train_mask = torch.zeros(data.num_nodes, dtype=torch.bool)\n",
    "train_mask[idx_train] = True\n",
    "\n",
    "test_mask = torch.zeros(data.num_nodes, dtype=torch.bool)\n",
    "test_mask[idx_test] = True\n",
    "\n",
    "# Update the data object with the masks\n",
    "data.train_mask = train_mask\n",
    "data.test_mask = test_mask\n",
    "\n",
    "data"
   ]
  },
  {
   "cell_type": "code",
   "execution_count": 22,
   "id": "9b002e16-a38e-4b56-8a36-df11d8475a74",
   "metadata": {},
   "outputs": [],
   "source": [
    "# Define GCN model\n",
    "class GCN(torch.nn.Module):\n",
    "    def __init__(self, num_node_features, num_hidden, num_classes):\n",
    "        super().__init__()\n",
    "        self.conv1 = GCNConv(num_node_features, num_hidden)\n",
    "        self.conv2 = GCNConv(num_hidden, num_classes)\n",
    "\n",
    "    def forward(self, data):\n",
    "        x, edge_index = data.x, data.edge_index\n",
    "\n",
    "        x = self.conv1(x, edge_index)\n",
    "        x = F.relu(x)\n",
    "        x = F.dropout(x, training=self.training)\n",
    "        x = self.conv2(x, edge_index)\n",
    "\n",
    "        return F.log_softmax(x, dim=1)"
   ]
  },
  {
   "cell_type": "code",
   "execution_count": null,
   "id": "ded8575f-c405-4a87-ba85-d1488835226f",
   "metadata": {},
   "outputs": [
    {
     "name": "stdout",
     "output_type": "stream",
     "text": [
      "Epoch 0: Loss 1.9578694105148315\n",
      "Epoch 100: Loss 0.005529898684471846\n",
      "Epoch 200: Loss 0.003023304045200348\n",
      "Epoch 300: Loss 0.004428666550666094\n",
      "Epoch 400: Loss 0.00033935607643797994\n"
     ]
    }
   ],
   "source": [
    "model = GCN(num_node_features=data.num_node_features,\n",
    "            num_hidden=512,  # Example: number of hidden units\n",
    "            num_classes=data.y.max().item() + 1)\n",
    "criterion = torch.nn.CrossEntropyLoss()\n",
    "optimizer = torch.optim.Adam(model.parameters(), lr=0.01)\n",
    "\n",
    "\n",
    "for epoch in range(1000):  # Example: number of epochs\n",
    "    model.train()\n",
    "    optimizer.zero_grad()\n",
    "    out = model(data)\n",
    "    # Ensure 'out' has predictions for all nodes, then apply the mask\n",
    "    loss = criterion(out[data.train_mask], data.y)\n",
    "    loss.backward()\n",
    "    optimizer.step()\n",
    "\n",
    "    # Optional: Print the loss every 10 epochs\n",
    "    if epoch % 100 == 0:\n",
    "        print(f'Epoch {epoch}: Loss {loss.item()}')\n"
   ]
  },
  {
   "cell_type": "code",
   "execution_count": null,
   "id": "d958379f-87a5-4471-a82e-3a8cd3d730b4",
   "metadata": {},
   "outputs": [],
   "source": [
    "model.eval()  # Set model to evaluation mode\n",
    "\n",
    "  # Get node features\n",
    "x = data.x\n",
    "\n",
    "if hasattr(data, 'train_mask'):\n",
    "  y = torch.full((data.num_nodes,), -1, dtype=torch.long)\n",
    "  y[data.train_mask] = data.y\n",
    "  #  - Approach 2 (separate data): No labels needed for test data\n",
    "else:\n",
    "  y = None\n",
    "\n",
    "  # Get predictions\n",
    "pred = model(data)\n",
    "pred = model(data)\n",
    "pred = F.log_softmax(pred, dim=1)  # Apply softmax activation\n",
    "predicted_classes = pred.argmax(dim=1)  # Get class with highest probability\n",
    "# Calculate evaluation metrics (replace with your desired metrics)\n",
    "# Here's an example using accuracy\n",
    "correct = (pred.argmax(dim=1) == y).sum().item()\n",
    "accuracy = correct / (data.num_nodes if y is not None else len(pred))\n",
    "\n",
    "preds = predicted_classes[idx_test]\n",
    "np.savetxt('submission.txt', preds, fmt='%d')\n",
    "print(f'accuracy : {accuracy}')\n",
    "\n",
    "\n"
   ]
  },
  {
   "cell_type": "code",
   "execution_count": 32,
   "id": "497d5d89-1480-476d-a2e7-1be892d36d8b",
   "metadata": {},
   "outputs": [],
   "source": [
    "preds = pred[idx_test]\n",
    "np.savetxt('submission.txt', preds, fmt='%d')"
   ]
  },
  {
   "cell_type": "code",
   "execution_count": null,
   "id": "a4782802-2364-42fe-b1ac-a667de863dbc",
   "metadata": {},
   "outputs": [],
   "source": []
  }
 ],
 "metadata": {
  "kernelspec": {
   "display_name": "Python 3.11 (default)",
   "language": "python",
   "name": "python3"
  },
  "language_info": {
   "codemirror_mode": {
    "name": "ipython",
    "version": 3
   },
   "file_extension": ".py",
   "mimetype": "text/x-python",
   "name": "python",
   "nbconvert_exporter": "python",
   "pygments_lexer": "ipython3",
   "version": "3.11.6"
  }
 },
 "nbformat": 4,
 "nbformat_minor": 5
}
